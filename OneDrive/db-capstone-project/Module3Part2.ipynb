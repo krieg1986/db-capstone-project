{
 "cells": [
  {
   "cell_type": "code",
   "execution_count": 2,
   "id": "bb807099-34a6-4b0e-adb5-9b3404186049",
   "metadata": {},
   "outputs": [],
   "source": [
    "import mysql.connector as connector\n",
    "\n",
    "connection = connector.connect(user = \"admin2\", password =\"123!@#ABCdef\", database = \"little_lemon_db\")\n",
    "\n",
    "cursor = connection.cursor()\n"
   ]
  },
  {
   "cell_type": "code",
   "execution_count": 3,
   "id": "829943d3-58c5-4103-968a-986524211dba",
   "metadata": {},
   "outputs": [
    {
     "name": "stdout",
     "output_type": "stream",
     "text": [
      "('bookings',)\n",
      "('customers',)\n",
      "('menu',)\n",
      "('menuitems',)\n",
      "('orders',)\n",
      "('orderstatus',)\n",
      "('ordersview',)\n",
      "('staff',)\n"
     ]
    }
   ],
   "source": [
    "show_tables_query = \"\"\"SHOW TABLES;\"\"\"\n",
    "\n",
    "cursor.execute(show_tables_query)\n",
    "\n",
    "results = cursor.fetchall()\n",
    "\n",
    "for table in results:\n",
    "    print(table)"
   ]
  },
  {
   "cell_type": "code",
   "execution_count": 7,
   "id": "7093add1-f015-4fc9-a1d9-85a0fa898797",
   "metadata": {},
   "outputs": [
    {
     "name": "stdout",
     "output_type": "stream",
     "text": [
      "('Full Name', 'Contact Info')\n"
     ]
    }
   ],
   "source": [
    "join_query = \"\"\" SELECT CONCAT(Customers.CustomerFirstName,\" \", Customers.CustomerLastName) AS \"Full Name\", \n",
    "Customers.CustomerDetails AS \"Contact Info\" FROM Customers INNER JOIN Orders ON Customers.CustomerID=Orders.CustomerID\n",
    " WHERE Orders.TotalCost > 60;\"\"\"\n",
    "\n",
    "cursor.execute(join_query)\n",
    "\n",
    "results = cursor.fetchall()\n",
    "\n",
    "columns = cursor.column_names\n",
    "\n",
    "print(columns)\n",
    "\n",
    "for x in results:\n",
    "    print(results)\n"
   ]
  },
  {
   "cell_type": "code",
   "execution_count": null,
   "id": "0b328b57-93d5-4643-b528-f3cc60201869",
   "metadata": {},
   "outputs": [],
   "source": []
  }
 ],
 "metadata": {
  "kernelspec": {
   "display_name": "Python 3 (ipykernel)",
   "language": "python",
   "name": "python3"
  },
  "language_info": {
   "codemirror_mode": {
    "name": "ipython",
    "version": 3
   },
   "file_extension": ".py",
   "mimetype": "text/x-python",
   "name": "python",
   "nbconvert_exporter": "python",
   "pygments_lexer": "ipython3",
   "version": "3.13.0"
  }
 },
 "nbformat": 4,
 "nbformat_minor": 5
}
